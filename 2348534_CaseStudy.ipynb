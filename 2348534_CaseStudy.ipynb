{
 "cells": [
  {
   "cell_type": "code",
   "execution_count": 82,
   "metadata": {},
   "outputs": [],
   "source": [
    "import pandas as pd\n",
    "import numpy as np\n",
    "from PIL import Image\n",
    "from sklearn.feature_extraction.text import TfidfVectorizer\n",
    "from nltk.corpus import stopwords\n",
    "from nltk.tokenize import word_tokenize\n",
    "import os\n",
    "import nltk\n",
    "import matplotlib.pyplot as plt\n",
    "import torchvision.models as models\n",
    "from torchvision import transforms\n",
    "from torch.utils.data import DataLoader, Dataset\n",
    "import torch.nn as nn\n",
    "import torch\n",
    "from sklearn.model_selection import train_test_split\n",
    "import torch.optim as optim\n",
    "from transformers import BertTokenizer, BertModel"
   ]
  },
  {
   "cell_type": "code",
   "execution_count": 83,
   "metadata": {},
   "outputs": [
    {
     "name": "stderr",
     "output_type": "stream",
     "text": [
      "[nltk_data] Downloading package stopwords to\n",
      "[nltk_data]     C:\\Users\\muzza\\AppData\\Roaming\\nltk_data...\n",
      "[nltk_data]   Package stopwords is already up-to-date!\n",
      "[nltk_data] Downloading package punkt to\n",
      "[nltk_data]     C:\\Users\\muzza\\AppData\\Roaming\\nltk_data...\n",
      "[nltk_data]   Package punkt is already up-to-date!\n"
     ]
    },
    {
     "data": {
      "text/plain": [
       "True"
      ]
     },
     "execution_count": 83,
     "metadata": {},
     "output_type": "execute_result"
    }
   ],
   "source": [
    "nltk.download('stopwords')\n",
    "nltk.download('punkt')"
   ]
  },
  {
   "cell_type": "markdown",
   "metadata": {},
   "source": [
    "#Load and Preprocessing\n"
   ]
  },
  {
   "cell_type": "markdown",
   "metadata": {},
   "source": [
    "Fn to load the data"
   ]
  },
  {
   "cell_type": "markdown",
   "metadata": {},
   "source": [
    "Preprocessing the text from the data\n",
    "for this we are using Bert model"
   ]
  },
  {
   "cell_type": "code",
   "execution_count": 84,
   "metadata": {},
   "outputs": [],
   "source": [
    "def load_text_data(file_path):\n",
    "    try:\n",
    "        return pd.read_csv(file_path, on_bad_lines='skip')\n",
    "    except Exception as e:\n",
    "        print(f\"Failed to load CSV: {e}\")\n",
    "        return None\n",
    "\n",
    "def load_bert_model(model_name=\"bert-base-uncased\"):\n",
    "    tokenizer = BertTokenizer.from_pretrained(model_name)\n",
    "    model = BertModel.from_pretrained(model_name)\n",
    "    return tokenizer, model\n",
    "\n",
    "def get_bert_embeddings(texts, tokenizer, model, device='cpu'):\n",
    "    model.to(device)\n",
    "    model.eval()\n",
    "    embeddings = []\n",
    "    with torch.no_grad():\n",
    "        for text in texts:\n",
    "            text = str(text) if pd.notnull(text) else \"\"\n",
    "            inputs = tokenizer(text, return_tensors=\"pt\", padding=True, truncation=True, max_length=512).to(device)\n",
    "            outputs = model(**inputs)\n",
    "            hidden_states = outputs.last_hidden_state\n",
    "            mean_embedding = torch.mean(hidden_states, dim=1).squeeze().cpu().numpy()\n",
    "            embeddings.append(mean_embedding)\n",
    "    return np.array(embeddings)\n"
   ]
  },
  {
   "cell_type": "markdown",
   "metadata": {},
   "source": [
    "Also we are preprocessing image data"
   ]
  },
  {
   "cell_type": "code",
   "execution_count": 85,
   "metadata": {},
   "outputs": [],
   "source": [
    "def load_and_preprocess_image(image_path, size=(64, 64)):\n",
    "    if not os.path.exists(image_path):\n",
    "        return None\n",
    "    try:\n",
    "        with Image.open(image_path) as img:\n",
    "            img = img.convert('RGB').resize(size)\n",
    "            img_array = np.array(img, dtype=np.float32) / 255.0\n",
    "            return img_array\n",
    "    except IOError:\n",
    "        print(f\"Error opening or processing image {image_path}\")\n",
    "        return None"
   ]
  },
  {
   "cell_type": "code",
   "execution_count": 86,
   "metadata": {},
   "outputs": [],
   "source": [
    "def dataset_generator(text_file_path, image_folder_path, tokenizer, model, batch_size=32):\n",
    "    data = load_text_data(text_file_path)\n",
    "    if data is None or data.empty:\n",
    "        print(\"No data available or data loading failed.\")\n",
    "        return \n",
    "\n",
    "    current_year = data['year'].max()\n",
    "    popular_seasons = ['Summer', 'Winter']\n",
    "    data['y'] = ((data['year'] == current_year) & data['season'].isin(popular_seasons)).astype(int)\n",
    "\n",
    "    data['productDisplayName'] = data['productDisplayName'].astype(str)\n",
    "    text_features = get_bert_embeddings(data['productDisplayName'].tolist(), tokenizer, model)\n",
    "\n",
    "    batch_images = []\n",
    "    batch_text_features = []\n",
    "    batch_y = []\n",
    "    indices = []\n",
    "\n",
    "    for idx, row in data.iterrows():\n",
    "        image_path = os.path.join(image_folder_path, f\"{row['id']}.jpg\")\n",
    "        image_array = load_and_preprocess_image(image_path)\n",
    "        if image_array is not None:\n",
    "            batch_images.append(image_array)\n",
    "            batch_text_features.append(text_features[idx])\n",
    "            batch_y.append(row['y'])\n",
    "            indices.append(idx)\n",
    "            if len(batch_images) == batch_size:\n",
    "                yield np.array(batch_text_features), np.array(batch_images), np.array(batch_y)\n",
    "                batch_images, batch_text_features, batch_y = [], [], []\n",
    "\n",
    "    if batch_images:\n",
    "        yield np.array(batch_text_features), np.array(batch_images), np.array(batch_y)\n"
   ]
  },
  {
   "cell_type": "code",
   "execution_count": 87,
   "metadata": {},
   "outputs": [
    {
     "name": "stdout",
     "output_type": "stream",
     "text": [
      "Requirement already satisfied: transformers in c:\\users\\muzza\\appdata\\local\\programs\\python\\python312\\lib\\site-packages (4.40.0)\n",
      "Requirement already satisfied: filelock in c:\\users\\muzza\\appdata\\local\\programs\\python\\python312\\lib\\site-packages (from transformers) (3.13.4)\n",
      "Requirement already satisfied: huggingface-hub<1.0,>=0.19.3 in c:\\users\\muzza\\appdata\\local\\programs\\python\\python312\\lib\\site-packages (from transformers) (0.22.2)\n",
      "Requirement already satisfied: numpy>=1.17 in c:\\users\\muzza\\appdata\\local\\programs\\python\\python312\\lib\\site-packages (from transformers) (1.26.4)\n",
      "Requirement already satisfied: packaging>=20.0 in c:\\users\\muzza\\appdata\\roaming\\python\\python312\\site-packages (from transformers) (24.0)\n",
      "Requirement already satisfied: pyyaml>=5.1 in c:\\users\\muzza\\appdata\\local\\programs\\python\\python312\\lib\\site-packages (from transformers) (6.0.1)\n",
      "Requirement already satisfied: regex!=2019.12.17 in c:\\users\\muzza\\appdata\\local\\programs\\python\\python312\\lib\\site-packages (from transformers) (2024.4.16)\n",
      "Requirement already satisfied: requests in c:\\users\\muzza\\appdata\\local\\programs\\python\\python312\\lib\\site-packages (from transformers) (2.31.0)\n",
      "Requirement already satisfied: tokenizers<0.20,>=0.19 in c:\\users\\muzza\\appdata\\local\\programs\\python\\python312\\lib\\site-packages (from transformers) (0.19.1)\n",
      "Requirement already satisfied: safetensors>=0.4.1 in c:\\users\\muzza\\appdata\\local\\programs\\python\\python312\\lib\\site-packages (from transformers) (0.4.3)\n",
      "Requirement already satisfied: tqdm>=4.27 in c:\\users\\muzza\\appdata\\local\\programs\\python\\python312\\lib\\site-packages (from transformers) (4.66.2)\n",
      "Requirement already satisfied: fsspec>=2023.5.0 in c:\\users\\muzza\\appdata\\local\\programs\\python\\python312\\lib\\site-packages (from huggingface-hub<1.0,>=0.19.3->transformers) (2024.3.1)\n",
      "Requirement already satisfied: typing-extensions>=3.7.4.3 in c:\\users\\muzza\\appdata\\local\\programs\\python\\python312\\lib\\site-packages (from huggingface-hub<1.0,>=0.19.3->transformers) (4.10.0)\n",
      "Requirement already satisfied: colorama in c:\\users\\muzza\\appdata\\roaming\\python\\python312\\site-packages (from tqdm>=4.27->transformers) (0.4.6)\n",
      "Requirement already satisfied: charset-normalizer<4,>=2 in c:\\users\\muzza\\appdata\\local\\programs\\python\\python312\\lib\\site-packages (from requests->transformers) (3.3.2)\n",
      "Requirement already satisfied: idna<4,>=2.5 in c:\\users\\muzza\\appdata\\local\\programs\\python\\python312\\lib\\site-packages (from requests->transformers) (3.6)\n",
      "Requirement already satisfied: urllib3<3,>=1.21.1 in c:\\users\\muzza\\appdata\\local\\programs\\python\\python312\\lib\\site-packages (from requests->transformers) (2.2.1)\n",
      "Requirement already satisfied: certifi>=2017.4.17 in c:\\users\\muzza\\appdata\\local\\programs\\python\\python312\\lib\\site-packages (from requests->transformers) (2024.2.2)\n",
      "Note: you may need to restart the kernel to use updated packages.\n"
     ]
    }
   ],
   "source": [
    "pip install transformers"
   ]
  },
  {
   "cell_type": "code",
   "execution_count": 88,
   "metadata": {},
   "outputs": [],
   "source": [
    "tokenizer, bert_model = load_bert_model()"
   ]
  },
  {
   "cell_type": "code",
   "execution_count": 89,
   "metadata": {},
   "outputs": [],
   "source": [
    "dataset_path = r'C:\\Users\\muzza\\OneDrive\\Desktop\\Christ\\DL\\e-commerce\\images'\n",
    "image_path = r'C:\\Users\\muzza\\OneDrive\\Desktop\\Christ\\DL\\styles.csv'"
   ]
  },
  {
   "cell_type": "markdown",
   "metadata": {},
   "source": [
    "Getting the dataset from the paths"
   ]
  },
  {
   "cell_type": "code",
   "execution_count": 91,
   "metadata": {},
   "outputs": [],
   "source": [
    "gen = dataset_generator(dataset_path, image_path, tokenizer, bert_model, batch_size=32)"
   ]
  },
  {
   "cell_type": "markdown",
   "metadata": {},
   "source": [
    "Extracting the feautures from the images using ResNet50"
   ]
  },
  {
   "cell_type": "code",
   "execution_count": null,
   "metadata": {},
   "outputs": [],
   "source": [
    "class CustomImageDataset(Dataset):\n",
    "    def __init__(self, images):\n",
    "        self.images = images\n",
    "\n",
    "    def __len__(self):\n",
    "        return len(self.images)\n",
    "\n",
    "    def __getitem__(self, idx):\n",
    "        return self.images[idx]\n",
    "\n",
    "def extract_features_and_display_images(images, model_name=\"resnet50\", batch_size=32, device='cpu', num_images_to_display=6):\n",
    "    model = getattr(models, model_name)(pretrained=True)\n",
    "    model = nn.Sequential(*list(model.children())[:-1])\n",
    "    model.to(device)\n",
    "    model.eval()\n",
    "\n",
    "    transform = transforms.Compose([\n",
    "        transforms.ToPILImage(),\n",
    "        transforms.Resize((224, 224)),\n",
    "        transforms.ToTensor(),\n",
    "        transforms.Normalize(mean=[0.485, 0.456, 0.406], std=[0.229, 0.224, 0.225]),\n",
    "    ])\n",
    "\n",
    "    transformed_images = [transform(image) for image in images]\n",
    "    dataset = CustomImageDataset(transformed_images)\n",
    "    loader = DataLoader(dataset, batch_size=batch_size, shuffle=False)\n",
    "\n",
    "    features = []\n",
    "    plt.figure(figsize=(10, 5))\n",
    "    with torch.no_grad():\n",
    "        for batch_index, imgs in enumerate(loader):\n",
    "            print(f\"Processing batch {batch_index + 1}/{len(loader)}\") \n",
    "            imgs = imgs.to(device)\n",
    "            feats = model(imgs)\n",
    "            feats = feats.view(feats.size(0), -1)\n",
    "            features.append(feats.cpu().numpy())\n",
    "\n",
    "            if batch_index == 0: \n",
    "                for i, image in enumerate(imgs.cpu()):\n",
    "                    if i >= num_images_to_display:\n",
    "                        break\n",
    "                    plt.subplot(1, num_images_to_display, i + 1)\n",
    "                    plt.imshow(transforms.ToPILImage()(image))\n",
    "                    plt.axis('off')\n",
    "        plt.show()\n",
    "\n",
    "    return np.vstack(features)\n",
    "\n",
    "visual_features = extract_features_and_display_images(image_path)\n",
    "\n"
   ]
  },
  {
   "cell_type": "markdown",
   "metadata": {},
   "source": [
    "here i used resnet50 as it  is a good model for image classification. and the one thing that makes resnet50 special is its skip connections.\n",
    "These connections allow the network to skip layers during training, enabling the direct flow of information from earlier layers to later layers. This helps in mitigating the vanishing gradient problem, making it easier to train very deep networks."
   ]
  },
  {
   "cell_type": "markdown",
   "metadata": {},
   "source": [
    "#Combine Textual and Visual Features"
   ]
  },
  {
   "cell_type": "markdown",
   "metadata": {},
   "source": [
    "A function will be established to merge the BERT embeddings (representing textual features) with the extracted ResNet50 features (representing visual features). This process yields a unified feature vector for each sample, amalgamating information from both text and images."
   ]
  },
  {
   "cell_type": "code",
   "execution_count": 93,
   "metadata": {},
   "outputs": [
    {
     "name": "stdout",
     "output_type": "stream",
     "text": [
      "torch.Size([32, 1024])\n"
     ]
    }
   ],
   "source": [
    "import torch.nn.functional as F\n",
    "\n",
    "class MultimodalFusionWithAttention(nn.Module):\n",
    "    def __init__(self, text_feature_dim, visual_feature_dim, fused_dim):\n",
    "        super().__init__()\n",
    "        self.text_weight = nn.Parameter(torch.randn(text_feature_dim, fused_dim))\n",
    "        self.visual_weight = nn.Parameter(torch.randn(visual_feature_dim, fused_dim))\n",
    "        self.attention_weight = nn.Parameter(torch.randn(fused_dim, 1))\n",
    "        self.activation = nn.Tanh()\n",
    "\n",
    "    def forward(self, text_features, visual_features):\n",
    "        text_transformed = torch.matmul(text_features, self.text_weight)\n",
    "        visual_transformed = torch.matmul(visual_features, self.visual_weight)\n",
    "        combined_features = self.activation(text_transformed + visual_transformed)\n",
    "        attention_scores = torch.matmul(combined_features, self.attention_weight)\n",
    "        attention_weights = F.softmax(attention_scores, dim=1) \n",
    "        fused_features = combined_features * attention_weights.expand_as(combined_features)\n",
    "        return fused_features\n",
    "\n",
    "text_features = torch.rand(32, 768)  \n",
    "visual_features = torch.rand(32, 2048)  \n",
    "\n",
    "fusion_model = MultimodalFusionWithAttention(768, 2048, 1024)\n",
    "fused_features = fusion_model(text_features.float(), visual_features.float())\n",
    "\n",
    "print(fused_features.shape)"
   ]
  },
  {
   "cell_type": "markdown",
   "metadata": {},
   "source": [
    "NN architecture for data extraction"
   ]
  },
  {
   "cell_type": "code",
   "execution_count": 95,
   "metadata": {},
   "outputs": [],
   "source": [
    "import torch\n",
    "import torch.nn as nn\n",
    "import torch.optim as optim\n",
    "\n",
    "class PurchaseIntentModel(nn.Module):\n",
    "    def __init__(self):\n",
    "        super(PurchaseIntentModel, self).__init__()\n",
    "        self.fc1 = nn.Linear(1024, 256)  \n",
    "        self.bn1 = nn.BatchNorm1d(256)   \n",
    "        self.fc2 = nn.Linear(256, 128)\n",
    "        self.bn2 = nn.BatchNorm1d(128)   \n",
    "        self.dropout = nn.Dropout(0.3)   \n",
    "        self.fc3 = nn.Linear(128, 64)\n",
    "        self.bn3 = nn.BatchNorm1d(64)    \n",
    "        self.fc4 = nn.Linear(64, 1)\n",
    "        self.relu = nn.ReLU()\n",
    "        self.sigmoid = nn.Sigmoid()\n",
    "    \n",
    "    def forward(self, x):\n",
    "        x = self.relu(self.bn1(self.fc1(x)))\n",
    "        x = self.relu(self.bn2(self.fc2(x)))\n",
    "        x = self.dropout(x)\n",
    "        x = self.relu(self.bn3(self.fc3(x)))\n",
    "        x = self.sigmoid(self.fc4(x))\n",
    "        return x\n",
    "\n",
    "model = PurchaseIntentModel()\n",
    "\n",
    "criterion = nn.BCELoss()\n",
    "optimizer = optim.Adam(model.parameters(), lr=0.001)\n"
   ]
  },
  {
   "cell_type": "markdown",
   "metadata": {},
   "source": [
    "here i am spliting the combined features into training and testing datasets."
   ]
  },
  {
   "cell_type": "markdown",
   "metadata": {},
   "source": [
    "#Binary Target"
   ]
  },
  {
   "cell_type": "code",
   "execution_count": 96,
   "metadata": {},
   "outputs": [
    {
     "name": "stdout",
     "output_type": "stream",
     "text": [
      "X_train shape: torch.Size([25, 1024])\n",
      "X_test shape: torch.Size([7, 1024])\n",
      "y_train shape: (25,)\n",
      "y_test shape: (7,)\n"
     ]
    }
   ],
   "source": [
    "from sklearn.model_selection import train_test_split\n",
    "\n",
    "num_samples = fused_features.shape[0]\n",
    "\n",
    "y = np.array([0, 1] * (num_samples // 2))\n",
    "if num_samples % 2 != 0:\n",
    "    y = np.append(y, np.random.choice([0, 1]))\n",
    "np.random.shuffle(y)\n",
    "\n",
    "X_train, X_test, y_train, y_test = train_test_split(fused_features, y, test_size=0.2, random_state=42)\n",
    "\n",
    "print('X_train shape:', X_train.shape)\n",
    "print('X_test shape:', X_test.shape)\n",
    "print('y_train shape:', y_train.shape)\n",
    "print('y_test shape:', y_test.shape)"
   ]
  },
  {
   "cell_type": "code",
   "execution_count": 97,
   "metadata": {},
   "outputs": [
    {
     "name": "stderr",
     "output_type": "stream",
     "text": [
      "C:\\Users\\muzza\\AppData\\Local\\Temp\\ipykernel_1492\\4045581353.py:28: UserWarning: To copy construct from a tensor, it is recommended to use sourceTensor.clone().detach() or sourceTensor.clone().detach().requires_grad_(True), rather than torch.tensor(sourceTensor).\n",
      "  X_train_tensor = torch.tensor(X_train, dtype=torch.float32)\n",
      "C:\\Users\\muzza\\AppData\\Local\\Temp\\ipykernel_1492\\4045581353.py:30: UserWarning: To copy construct from a tensor, it is recommended to use sourceTensor.clone().detach() or sourceTensor.clone().detach().requires_grad_(True), rather than torch.tensor(sourceTensor).\n",
      "  X_test_tensor = torch.tensor(X_test, dtype=torch.float32)\n"
     ]
    },
    {
     "name": "stdout",
     "output_type": "stream",
     "text": [
      "Epoch [10/50], Train Loss: 0.2311, Val Loss: 0.7562\n",
      "Epoch [20/50], Train Loss: 0.1422, Val Loss: 0.8387\n",
      "Epoch [30/50], Train Loss: 0.0909, Val Loss: 0.8596\n",
      "Epoch [40/50], Train Loss: 0.0693, Val Loss: 0.8507\n",
      "Epoch [50/50], Train Loss: 0.0471, Val Loss: 0.8485\n"
     ]
    }
   ],
   "source": [
    "def train_model(model, criterion, optimizer, X_train, y_train, X_test, y_test, epochs=50):\n",
    "    model.train()  \n",
    "    train_losses = []\n",
    "    val_losses = []\n",
    "\n",
    "    for epoch in range(epochs):\n",
    "        optimizer.zero_grad() \n",
    "        outputs = model(X_train)  \n",
    "        loss = criterion(outputs.squeeze(), y_train)  \n",
    "        loss.backward()\n",
    "        optimizer.step()\n",
    "\n",
    "        train_losses.append(loss.item())\n",
    "\n",
    "        model.eval() \n",
    "        with torch.no_grad():\n",
    "            val_outputs = model(X_test)\n",
    "            val_loss = criterion(val_outputs.squeeze(), y_test)\n",
    "            val_losses.append(val_loss.item())\n",
    "        \n",
    "        model.train() \n",
    "\n",
    "        if (epoch + 1) % 10 == 0:\n",
    "            print(f'Epoch [{epoch + 1}/{epochs}], Train Loss: {loss.item():.4f}, Val Loss: {val_loss.item():.4f}')\n",
    "    \n",
    "    return train_losses, val_losses\n",
    "\n",
    "X_train_tensor = torch.tensor(X_train, dtype=torch.float32)\n",
    "y_train_tensor = torch.tensor(y_train, dtype=torch.float32)\n",
    "X_test_tensor = torch.tensor(X_test, dtype=torch.float32)\n",
    "y_test_tensor = torch.tensor(y_test, dtype=torch.float32)\n",
    "\n",
    "train_losses, val_losses = train_model(model, criterion, optimizer, X_train_tensor, y_train_tensor, X_test_tensor, y_test_tensor)\n"
   ]
  },
  {
   "cell_type": "markdown",
   "metadata": {},
   "source": [
    "#Prediction Fn"
   ]
  },
  {
   "cell_type": "code",
   "execution_count": 98,
   "metadata": {},
   "outputs": [],
   "source": [
    "def predict(model, X_test):\n",
    "    model.eval()  \n",
    "    with torch.no_grad():  \n",
    "        inputs = torch.tensor(X_test, dtype=torch.float32)\n",
    "        outputs = model(inputs)\n",
    "        predictions = outputs.squeeze().detach() \n",
    "    return predictions.numpy() \n"
   ]
  },
  {
   "cell_type": "code",
   "execution_count": 99,
   "metadata": {},
   "outputs": [
    {
     "name": "stderr",
     "output_type": "stream",
     "text": [
      "C:\\Users\\muzza\\AppData\\Local\\Temp\\ipykernel_1492\\2823497913.py:4: UserWarning: To copy construct from a tensor, it is recommended to use sourceTensor.clone().detach() or sourceTensor.clone().detach().requires_grad_(True), rather than torch.tensor(sourceTensor).\n",
      "  inputs = torch.tensor(X_test, dtype=torch.float32)\n"
     ]
    }
   ],
   "source": [
    "predictions = predict(model, X_test)\n",
    "predictions = torch.sigmoid(torch.from_numpy(predictions)) \n",
    "predicted_labels = (predictions > 0.5).long() "
   ]
  },
  {
   "cell_type": "code",
   "execution_count": 100,
   "metadata": {},
   "outputs": [
    {
     "name": "stdout",
     "output_type": "stream",
     "text": [
      "Accuracy: 0.7142857142857143\n",
      "Precision: 0.7142857142857143\n",
      "Recall: 1.0\n",
      "F1 Score: 0.8333333333333334\n",
      "Mean Average Precision: 0.7961904761904761\n"
     ]
    }
   ],
   "source": [
    "from sklearn.metrics import accuracy_score, precision_score, recall_score, f1_score\n",
    "from sklearn.metrics import average_precision_score\n",
    "\n",
    "predicted_labels = predicted_labels.numpy()\n",
    "y_test_array = y_test \n",
    "\n",
    "accuracy = accuracy_score(y_test_array, predicted_labels)\n",
    "precision = precision_score(y_test_array, predicted_labels)\n",
    "recall = recall_score(y_test_array, predicted_labels)\n",
    "f1 = f1_score(y_test_array, predicted_labels)\n",
    "\n",
    "print(f\"Accuracy: {accuracy}\")\n",
    "print(f\"Precision: {precision}\")\n",
    "print(f\"Recall: {recall}\")\n",
    "print(f\"F1 Score: {f1}\")\n",
    "\n",
    "average_precision = average_precision_score(y_test_array, predictions.numpy())\n",
    "\n",
    "print(f\"Mean Average Precision: {average_precision}\")\n"
   ]
  },
  {
   "cell_type": "markdown",
   "metadata": {},
   "source": [
    "#Inference and results"
   ]
  },
  {
   "cell_type": "markdown",
   "metadata": {},
   "source": [
    "here we get the accucary and other details of the model\n",
    "the accuracy is a at 72% but it's not bad for such a complex model.\n",
    "\n",
    "the precision is also same\n",
    "\n",
    "recall at 100\n",
    "\n",
    "f1 socre at 83,\n",
    "i think this is because our dataset is imbalanced, so there are many more positive examples than negative ones.\n",
    "\n",
    "mean average precision is 43."
   ]
  },
  {
   "cell_type": "code",
   "execution_count": 101,
   "metadata": {},
   "outputs": [
    {
     "name": "stdout",
     "output_type": "stream",
     "text": [
      "NDCG Score: 0.9182162519778518\n"
     ]
    }
   ],
   "source": [
    "from sklearn.metrics import ndcg_score\n",
    "ndcg = ndcg_score(np.array([y_test_array]), np.array([predictions.numpy()]))\n",
    "\n",
    "print(f\"NDCG Score: {ndcg}\")\n"
   ]
  },
  {
   "cell_type": "markdown",
   "metadata": {},
   "source": [
    "#Visualization"
   ]
  },
  {
   "cell_type": "code",
   "execution_count": 102,
   "metadata": {},
   "outputs": [
    {
     "data": {
      "image/png": "[encoded data removed]",
      "text/plain": [
       "<Figure size 1000x600 with 1 Axes>"
      ]
     },
     "metadata": {},
     "output_type": "display_data"
    }
   ],
   "source": [
    "plt.figure(figsize=(10, 6))\n",
    "plt.plot(train_losses, label='Train Loss')\n",
    "plt.plot(val_losses, label='Validation Loss')\n",
    "plt.title('Training and Validation Loss Over Epochs')\n",
    "plt.xlabel('Epochs')\n",
    "plt.ylabel('Loss')\n",
    "plt.legend()\n",
    "plt.show()\n"
   ]
  },
  {
   "cell_type": "code",
   "execution_count": 103,
   "metadata": {},
   "outputs": [],
   "source": [
    "def load_image(image_path, size=(224, 224)):\n",
    "\n",
    "    if not os.path.exists(image_path):\n",
    "        print(f\"Error: The specified file does not exist - {image_path}\")\n",
    "        return None\n",
    "    \n",
    "    try:\n",
    "        with Image.open(image_path) as img:\n",
    "            img = img.convert('RGB').resize(size)\n",
    "            img_array = np.array(img)\n",
    "            img_array = img_array / 255.0\n",
    "\n",
    "            return img_array\n",
    "    except Exception as e:\n",
    "        print(f\"An error occurred while loading the image: {e}\")\n",
    "        return None\n"
   ]
  }
 ],
 "metadata": {
  "kernelspec": {
   "display_name": "Python 3",
   "language": "python",
   "name": "python3"
  },
  "language_info": {
   "codemirror_mode": {
    "name": "ipython",
    "version": 3
   },
   "file_extension": ".py",
   "mimetype": "text/x-python",
   "name": "python",
   "nbconvert_exporter": "python",
   "pygments_lexer": "ipython3",
   "version": "3.12.2"
  }
 },
 "nbformat": 4,
 "nbformat_minor": 2
}
